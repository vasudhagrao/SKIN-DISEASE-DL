{
 "cells": [
  {
   "cell_type": "code",
   "execution_count": 1,
   "metadata": {},
   "outputs": [
    {
     "name": "stderr",
     "output_type": "stream",
     "text": [
      "Using TensorFlow backend.\n"
     ]
    }
   ],
   "source": [
    "import cv2\n",
    "import os\n",
    "from keras.models import model_from_json\n",
    "from pathlib import Path\n",
    "from keras.preprocessing import image\n",
    "import numpy as np\n",
    "import matplotlib.pyplot as plt\n",
    "import warnings\n",
    "warnings.filterwarnings('ignore')"
   ]
  },
  {
   "cell_type": "code",
   "execution_count": 2,
   "metadata": {},
   "outputs": [],
   "source": [
    "input_dir = 'test_sample/'\n",
    "model_dir = 'model/'\n",
    "model_str_file = 'model_structure.json'\n",
    "model_weights_file = 'model_weights.h5'"
   ]
  },
  {
   "cell_type": "code",
   "execution_count": 3,
   "metadata": {},
   "outputs": [
    {
     "name": "stdout",
     "output_type": "stream",
     "text": [
      "['Acne', 'Dermatitis', 'Eczema', 'Melanoma']\n"
     ]
    }
   ],
   "source": [
    "class_names = os.listdir('input')\n",
    "print(class_names)"
   ]
  },
  {
   "cell_type": "code",
   "execution_count": 4,
   "metadata": {},
   "outputs": [],
   "source": [
    "def load_trained_model(model_str_path, model_wt_path):\n",
    "    f = Path(model_str_path)\n",
    "    model_structure = f.read_text()\n",
    "    trained_model = model_from_json(model_structure)\n",
    "    trained_model.load_weights(model_wt_path)\n",
    "    return trained_model"
   ]
  },
  {
   "cell_type": "code",
   "execution_count": 5,
   "metadata": {},
   "outputs": [],
   "source": [
    "str_path = os.path.join(model_dir,model_str_file)\n",
    "wt_path = os.path.join(model_dir,model_weights_file)"
   ]
  },
  {
   "cell_type": "code",
   "execution_count": 6,
   "metadata": {},
   "outputs": [],
   "source": [
    "model = load_trained_model(str_path, wt_path)"
   ]
  },
  {
   "cell_type": "code",
   "execution_count": 7,
   "metadata": {},
   "outputs": [],
   "source": [
    "def predict_result(image_path, model):\n",
    "    img = image.load_img(image_path, target_size=(64, 64))\n",
    "    plt.imshow(img)\n",
    "    image_to_test = image.img_to_array(img)\n",
    "    list_of_images = np.expand_dims(image_to_test, axis=0)\n",
    "    result = model.predict(list_of_images)[0]\n",
    "    plt.imshow(img)\n",
    "    plt.title(result)\n",
    "    plt.axis('off')\n",
    "    plt.show()\n",
    "    most_likely_class_index = int(np.argmax(result))\n",
    "    class_likelihood = result[most_likely_class_index]\n",
    "    class_label = class_names[most_likely_class_index]\n",
    "    print(\"Predicted class is : {}\".format(class_label))"
   ]
  },
  {
   "cell_type": "code",
   "execution_count": 10,
   "metadata": {},
   "outputs": [
    {
     "name": "stdout",
     "output_type": "stream",
     "text": [
      "['test_(1).jpg', 'test_(2).jpg', 'test_(3).jpg', 'test_(4).jpg', 'test_(5).jpg', 'test_(6).jpg', 'test_(7).jpg', 'test_(8).jpg']\n"
     ]
    }
   ],
   "source": [
    "print(os.listdir(input_dir))"
   ]
  },
  {
   "cell_type": "code",
   "execution_count": 11,
   "metadata": {},
   "outputs": [
    {
     "data": {
      "image/png": "[encoded data removed]",
      "text/plain": [
       "<Figure size 432x288 with 1 Axes>"
      ]
     },
     "metadata": {
      "needs_background": "light"
     },
     "output_type": "display_data"
    },
    {
     "name": "stdout",
     "output_type": "stream",
     "text": [
      "Predicted class is : Eczema\n"
     ]
    }
   ],
   "source": [
    "predict_result('test_sample/test_(6).jpg',model)"
   ]
  },
  {
   "cell_type": "code",
   "execution_count": null,
   "metadata": {},
   "outputs": [],
   "source": []
  }
 ],
 "metadata": {
  "kernelspec": {
   "display_name": "Python 3",
   "language": "python",
   "name": "python3"
  },
  "language_info": {
   "codemirror_mode": {
    "name": "ipython",
    "version": 3
   },
   "file_extension": ".py",
   "mimetype": "text/x-python",
   "name": "python",
   "nbconvert_exporter": "python",
   "pygments_lexer": "ipython3",
   "version": "3.6.6"
  }
 },
 "nbformat": 4,
 "nbformat_minor": 2
}

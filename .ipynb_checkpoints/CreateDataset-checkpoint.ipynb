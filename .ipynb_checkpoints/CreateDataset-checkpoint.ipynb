{
 "cells": [
  {
   "cell_type": "code",
   "execution_count": null,
   "metadata": {},
   "outputs": [],
   "source": [
    "import os\n",
    "import cv2\n",
    "import shutil"
   ]
  },
  {
   "cell_type": "code",
   "execution_count": null,
   "metadata": {},
   "outputs": [],
   "source": [
    "input_data_dir = 'input\\\\'\n",
    "output_data_dir = 'output\\\\'"
   ]
  },
  {
   "cell_type": "code",
   "execution_count": null,
   "metadata": {
    "scrolled": false
   },
   "outputs": [],
   "source": [
    "wdir = os.listdir(input_data_dir)\n",
    "print(wdir)\n",
    "total = len(wdir)\n",
    "print(total)\n",
    "\n",
    "for dirname in wdir:\n",
    "    print('-'*10,dirname)\n",
    "    if not os.path.exists(os.path.join(output_data_dir,dirname)):\n",
    "        os.makedirs(os.path.join(output_data_dir,dirname))\n",
    "\n",
    "    labels = os.listdir(os.path.join(input_data_dir, dirname))\n",
    "    print(labels)\n",
    "\n",
    "    for label in labels:\n",
    "        print('%'*10,label)\n",
    "        if not os.path.exists(os.path.join(output_data_dir, dirname, label)):\n",
    "            os.makedirs(os.path.join(output_data_dir, dirname, label))\n",
    "        folders = os.listdir(os.path.join(input_data_dir, dirname, label))\n",
    "        \n",
    "        \n",
    "        outDir = os.path.join(output_data_dir, dirname, label)\n",
    "        print(outDir)\n",
    "        count = 0\n",
    "        for folder in folders:\n",
    "            folder_path = os.path.join(input_data_dir, dirname, label, folder)\n",
    "            for image in os.listdir(folder_path):\n",
    "                image_path =  os.path.join(folder_path, image)\n",
    "                dest_path = os.path.join(outDir, image)\n",
    "                print(image_path, dest_path)\n",
    "                if image.endswith('.db'):\n",
    "                    print('-----')\n",
    "                else:\n",
    "                    shutil.move(src=image_path, dst=dest_path)"
   ]
  },
  {
   "cell_type": "code",
   "execution_count": null,
   "metadata": {},
   "outputs": [],
   "source": []
  }
 ],
 "metadata": {
  "kernelspec": {
   "display_name": "Python 3",
   "language": "python",
   "name": "python3"
  },
  "language_info": {
   "codemirror_mode": {
    "name": "ipython",
    "version": 3
   },
   "file_extension": ".py",
   "mimetype": "text/x-python",
   "name": "python",
   "nbconvert_exporter": "python",
   "pygments_lexer": "ipython3",
   "version": "3.6.6"
  }
 },
 "nbformat": 4,
 "nbformat_minor": 2
}

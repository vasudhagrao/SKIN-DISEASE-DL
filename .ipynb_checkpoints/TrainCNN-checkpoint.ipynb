{
 "cells": [
  {
   "cell_type": "code",
   "execution_count": 2,
   "metadata": {},
   "outputs": [
    {
     "name": "stderr",
     "output_type": "stream",
     "text": [
      "Using TensorFlow backend.\n"
     ]
    }
   ],
   "source": [
    "import cv2\n",
    "import os\n",
    "import h5py\n",
    "import numpy as np\n",
    "from keras.utils import np_utils\n",
    "from keras.layers import Dense, Dropout, Flatten, GlobalAveragePooling2D\n",
    "from keras.optimizers import Adam\n",
    "from keras.models import Model\n",
    "from keras.applications import VGG16\n",
    "from pathlib import Path\n",
    "import itertools\n",
    "%matplotlib inline\n",
    "import matplotlib.pyplot as plt\n",
    "from pathlib import Path\n",
    "from sklearn.metrics import classification_report\n",
    "from sklearn.metrics import confusion_matrix\n",
    "from sklearn.model_selection import train_test_split"
   ]
  },
  {
   "cell_type": "code",
   "execution_count": 3,
   "metadata": {},
   "outputs": [],
   "source": [
    "data_dir = 'input'"
   ]
  },
  {
   "cell_type": "code",
   "execution_count": 4,
   "metadata": {},
   "outputs": [
    {
     "name": "stdout",
     "output_type": "stream",
     "text": [
      "['Acne', 'Dermatitis', 'Eczema', 'Melanoma']\n"
     ]
    }
   ],
   "source": [
    "class_labels = os.listdir(data_dir)\n",
    "print(class_labels)"
   ]
  },
  {
   "cell_type": "code",
   "execution_count": 5,
   "metadata": {},
   "outputs": [
    {
     "name": "stdout",
     "output_type": "stream",
     "text": [
      "Acne :  395\n",
      "Dermatitis :  234\n",
      "Eczema :  320\n",
      "Melanoma :  439\n",
      "----- 1388\n"
     ]
    }
   ],
   "source": [
    "count = 0\n",
    "for label in class_labels:\n",
    "    total = len(os.listdir(os.path.join(data_dir, label)))\n",
    "    print(label, \": \",total)\n",
    "    count +=total\n",
    "print('-----',count)"
   ]
  },
  {
   "cell_type": "code",
   "execution_count": 6,
   "metadata": {},
   "outputs": [],
   "source": [
    "num_classes = len(class_labels)\n",
    "no_samples = count\n",
    "img_rows= 64\n",
    "img_cols= 64\n",
    "no_channels = 3"
   ]
  },
  {
   "cell_type": "code",
   "execution_count": 7,
   "metadata": {},
   "outputs": [],
   "source": [
    "def load_data():\n",
    "    labels = os.listdir(data_dir)\n",
    "    total = len(labels)\n",
    "    \n",
    "    X = np.ndarray((no_samples, img_rows, img_cols, no_channels), dtype = np.uint8)\n",
    "    Y = np.zeros((no_samples,), dtype = np.uint8)\n",
    "    \n",
    "    i = 0\n",
    "    print('-'*30)\n",
    "    print('Creating training images...')\n",
    "    print('-'*30)\n",
    "    \n",
    "    j = 0\n",
    "    for label in labels:\n",
    "        image_names = os.listdir(os.path.join(data_dir, label))\n",
    "        total = len(image_names)\n",
    "        print(label, total)\n",
    "        for image_name in image_names:\n",
    "            img = cv2.imread(os.path.join(data_dir, label, image_name), 1)\n",
    "            img = np.array(cv2.resize(img, (img_rows,img_cols)))\n",
    "            X[i] = img\n",
    "            Y[i] = j\n",
    "\n",
    "            if i % 80 == 0:\n",
    "                print('Done: {0}/{1} images'.format(i, total))\n",
    "            i += 1\n",
    "        j += 1    \n",
    "    print(i)                \n",
    "    print('Loading done.')\n",
    "    \n",
    "    Y = np_utils.to_categorical(Y[:no_samples], num_classes)\n",
    "\n",
    "    np.save('dataset/features.npy', X)\n",
    "    np.save('dataset/labels.npy', Y)"
   ]
  },
  {
   "cell_type": "code",
   "execution_count": 8,
   "metadata": {},
   "outputs": [
    {
     "name": "stdout",
     "output_type": "stream",
     "text": [
      "------------------------------\n",
      "Creating training images...\n",
      "------------------------------\n",
      "Acne 395\n",
      "Done: 0/395 images\n",
      "Done: 80/395 images\n",
      "Done: 160/395 images\n",
      "Done: 240/395 images\n",
      "Done: 320/395 images\n",
      "Dermatitis 234\n",
      "Done: 400/234 images\n",
      "Done: 480/234 images\n",
      "Done: 560/234 images\n",
      "Eczema 320\n",
      "Done: 640/320 images\n",
      "Done: 720/320 images\n",
      "Done: 800/320 images\n",
      "Done: 880/320 images\n",
      "Melanoma 439\n",
      "Done: 960/439 images\n",
      "Done: 1040/439 images\n",
      "Done: 1120/439 images\n",
      "Done: 1200/439 images\n",
      "Done: 1280/439 images\n",
      "Done: 1360/439 images\n",
      "1388\n",
      "Loading done.\n"
     ]
    }
   ],
   "source": [
    "load_data()"
   ]
  },
  {
   "cell_type": "code",
   "execution_count": 9,
   "metadata": {},
   "outputs": [],
   "source": [
    "X = np.load('dataset/features.npy')\n",
    "Y = np.load('dataset/labels.npy')"
   ]
  },
  {
   "cell_type": "code",
   "execution_count": 10,
   "metadata": {},
   "outputs": [
    {
     "name": "stdout",
     "output_type": "stream",
     "text": [
      "(1388, 64, 64, 3) (1388, 4)\n"
     ]
    }
   ],
   "source": [
    "print(X.shape, Y.shape)"
   ]
  },
  {
   "cell_type": "code",
   "execution_count": 13,
   "metadata": {},
   "outputs": [
    {
     "data": {
      "text/plain": [
       "array([[[123, 129, 164],\n",
       "        [117, 122, 159],\n",
       "        [130, 128, 168],\n",
       "        ...,\n",
       "        [103, 109, 149],\n",
       "        [113, 114, 155],\n",
       "        [112, 119, 158]],\n",
       "\n",
       "       [[123, 129, 164],\n",
       "        [106, 117, 149],\n",
       "        [119, 125, 160],\n",
       "        ...,\n",
       "        [113, 122, 157],\n",
       "        [117, 121, 160],\n",
       "        [119, 121, 156]],\n",
       "\n",
       "       [[122, 127, 162],\n",
       "        [120, 126, 160],\n",
       "        [116, 120, 152],\n",
       "        ...,\n",
       "        [132, 133, 170],\n",
       "        [111, 113, 148],\n",
       "        [139, 144, 179]],\n",
       "\n",
       "       ...,\n",
       "\n",
       "       [[126, 131, 166],\n",
       "        [113, 119, 154],\n",
       "        [138, 140, 170],\n",
       "        ...,\n",
       "        [ 51,  58,  77],\n",
       "        [ 39,  43,  64],\n",
       "        [  2,   5,   9]],\n",
       "\n",
       "       [[126, 130, 165],\n",
       "        [121, 123, 157],\n",
       "        [111, 117, 154],\n",
       "        ...,\n",
       "        [ 48,  54,  72],\n",
       "        [ 39,  43,  62],\n",
       "        [  6,   8,   9]],\n",
       "\n",
       "       [[110, 116, 150],\n",
       "        [120, 122, 157],\n",
       "        [117, 122, 155],\n",
       "        ...,\n",
       "        [ 45,  50,  68],\n",
       "        [ 20,  22,  31],\n",
       "        [  4,   7,  11]]], dtype=uint8)"
      ]
     },
     "execution_count": 13,
     "metadata": {},
     "output_type": "execute_result"
    }
   ],
   "source": [
    "X[0]"
   ]
  },
  {
   "cell_type": "code",
   "execution_count": 16,
   "metadata": {},
   "outputs": [
    {
     "data": {
      "text/plain": [
       "array([0., 1., 0., 0.], dtype=float32)"
      ]
     },
     "execution_count": 16,
     "metadata": {},
     "output_type": "execute_result"
    }
   ],
   "source": [
    "Y[396]"
   ]
  },
  {
   "cell_type": "code",
   "execution_count": 17,
   "metadata": {},
   "outputs": [],
   "source": [
    "X = X.astype('float32')\n",
    "X /= 127.5"
   ]
  },
  {
   "cell_type": "code",
   "execution_count": 18,
   "metadata": {},
   "outputs": [
    {
     "data": {
      "text/plain": [
       "array([[[0.9647059 , 1.0117648 , 1.2862746 ],\n",
       "        [0.91764706, 0.95686275, 1.2470589 ],\n",
       "        [1.0196079 , 1.0039216 , 1.3176471 ],\n",
       "        ...,\n",
       "        [0.80784315, 0.85490197, 1.1686275 ],\n",
       "        [0.8862745 , 0.89411765, 1.2156863 ],\n",
       "        [0.8784314 , 0.93333334, 1.2392157 ]],\n",
       "\n",
       "       [[0.9647059 , 1.0117648 , 1.2862746 ],\n",
       "        [0.83137256, 0.91764706, 1.1686275 ],\n",
       "        [0.93333334, 0.98039216, 1.254902  ],\n",
       "        ...,\n",
       "        [0.8862745 , 0.95686275, 1.2313726 ],\n",
       "        [0.91764706, 0.9490196 , 1.254902  ],\n",
       "        [0.93333334, 0.9490196 , 1.2235295 ]],\n",
       "\n",
       "       [[0.95686275, 0.99607843, 1.2705883 ],\n",
       "        [0.9411765 , 0.9882353 , 1.254902  ],\n",
       "        [0.9098039 , 0.9411765 , 1.1921569 ],\n",
       "        ...,\n",
       "        [1.0352942 , 1.0431373 , 1.3333334 ],\n",
       "        [0.87058824, 0.8862745 , 1.1607844 ],\n",
       "        [1.0901961 , 1.1294118 , 1.4039216 ]],\n",
       "\n",
       "       ...,\n",
       "\n",
       "       [[0.9882353 , 1.027451  , 1.3019608 ],\n",
       "        [0.8862745 , 0.93333334, 1.2078432 ],\n",
       "        [1.082353  , 1.0980393 , 1.3333334 ],\n",
       "        ...,\n",
       "        [0.4       , 0.45490196, 0.6039216 ],\n",
       "        [0.30588236, 0.3372549 , 0.5019608 ],\n",
       "        [0.01568628, 0.03921569, 0.07058824]],\n",
       "\n",
       "       [[0.9882353 , 1.0196079 , 1.2941177 ],\n",
       "        [0.9490196 , 0.9647059 , 1.2313726 ],\n",
       "        [0.87058824, 0.91764706, 1.2078432 ],\n",
       "        ...,\n",
       "        [0.3764706 , 0.42352942, 0.5647059 ],\n",
       "        [0.30588236, 0.3372549 , 0.4862745 ],\n",
       "        [0.04705882, 0.0627451 , 0.07058824]],\n",
       "\n",
       "       [[0.8627451 , 0.9098039 , 1.1764706 ],\n",
       "        [0.9411765 , 0.95686275, 1.2313726 ],\n",
       "        [0.91764706, 0.95686275, 1.2156863 ],\n",
       "        ...,\n",
       "        [0.3529412 , 0.39215687, 0.53333336],\n",
       "        [0.15686275, 0.17254902, 0.24313726],\n",
       "        [0.03137255, 0.05490196, 0.08627451]]], dtype=float32)"
      ]
     },
     "execution_count": 18,
     "metadata": {},
     "output_type": "execute_result"
    }
   ],
   "source": [
    "X[0]"
   ]
  },
  {
   "cell_type": "code",
   "execution_count": 19,
   "metadata": {},
   "outputs": [],
   "source": [
    "x_train, x_test, y_train, y_test = train_test_split(X, Y, test_size= 0.1)"
   ]
  },
  {
   "cell_type": "code",
   "execution_count": 20,
   "metadata": {},
   "outputs": [
    {
     "name": "stdout",
     "output_type": "stream",
     "text": [
      "(1249, 64, 64, 3) (1249, 4) (139, 64, 64, 3) (139, 4)\n"
     ]
    }
   ],
   "source": [
    "print(x_train.shape, y_train.shape, x_test.shape, y_test.shape)"
   ]
  },
  {
   "cell_type": "code",
   "execution_count": 21,
   "metadata": {},
   "outputs": [],
   "source": [
    "base_model = VGG16(weights='imagenet', include_top=False, input_shape=(img_rows,img_cols,no_channels))"
   ]
  },
  {
   "cell_type": "code",
   "execution_count": 22,
   "metadata": {},
   "outputs": [],
   "source": [
    "base_model = Model(base_model.input, base_model.get_layer('block5_conv2').output)"
   ]
  },
  {
   "cell_type": "code",
   "execution_count": 23,
   "metadata": {},
   "outputs": [],
   "source": [
    "x = base_model.output\n",
    "x = GlobalAveragePooling2D()(x)\n",
    "x = Dense(1024, activation='relu')(x)\n",
    "x = Dropout(0.5)(x)\n",
    "predictions = Dense(num_classes, activation='softmax', name='predictions')(x)"
   ]
  },
  {
   "cell_type": "code",
   "execution_count": 24,
   "metadata": {},
   "outputs": [],
   "source": [
    "model = Model(inputs=base_model.input, outputs=predictions)"
   ]
  },
  {
   "cell_type": "code",
   "execution_count": 25,
   "metadata": {},
   "outputs": [],
   "source": [
    "for layer in base_model.layers:\n",
    "    layer.trainable = False"
   ]
  },
  {
   "cell_type": "code",
   "execution_count": 26,
   "metadata": {},
   "outputs": [],
   "source": [
    "model.compile(\n",
    "    loss= 'categorical_crossentropy',\n",
    "    optimizer= 'adam',\n",
    "    metrics=['accuracy']\n",
    ")"
   ]
  },
  {
   "cell_type": "code",
   "execution_count": 27,
   "metadata": {},
   "outputs": [
    {
     "name": "stdout",
     "output_type": "stream",
     "text": [
      "_________________________________________________________________\n",
      "Layer (type)                 Output Shape              Param #   \n",
      "=================================================================\n",
      "input_1 (InputLayer)         (None, 64, 64, 3)         0         \n",
      "_________________________________________________________________\n",
      "block1_conv1 (Conv2D)        (None, 64, 64, 64)        1792      \n",
      "_________________________________________________________________\n",
      "block1_conv2 (Conv2D)        (None, 64, 64, 64)        36928     \n",
      "_________________________________________________________________\n",
      "block1_pool (MaxPooling2D)   (None, 32, 32, 64)        0         \n",
      "_________________________________________________________________\n",
      "block2_conv1 (Conv2D)        (None, 32, 32, 128)       73856     \n",
      "_________________________________________________________________\n",
      "block2_conv2 (Conv2D)        (None, 32, 32, 128)       147584    \n",
      "_________________________________________________________________\n",
      "block2_pool (MaxPooling2D)   (None, 16, 16, 128)       0         \n",
      "_________________________________________________________________\n",
      "block3_conv1 (Conv2D)        (None, 16, 16, 256)       295168    \n",
      "_________________________________________________________________\n",
      "block3_conv2 (Conv2D)        (None, 16, 16, 256)       590080    \n",
      "_________________________________________________________________\n",
      "block3_conv3 (Conv2D)        (None, 16, 16, 256)       590080    \n",
      "_________________________________________________________________\n",
      "block3_pool (MaxPooling2D)   (None, 8, 8, 256)         0         \n",
      "_________________________________________________________________\n",
      "block4_conv1 (Conv2D)        (None, 8, 8, 512)         1180160   \n",
      "_________________________________________________________________\n",
      "block4_conv2 (Conv2D)        (None, 8, 8, 512)         2359808   \n",
      "_________________________________________________________________\n",
      "block4_conv3 (Conv2D)        (None, 8, 8, 512)         2359808   \n",
      "_________________________________________________________________\n",
      "block4_pool (MaxPooling2D)   (None, 4, 4, 512)         0         \n",
      "_________________________________________________________________\n",
      "block5_conv1 (Conv2D)        (None, 4, 4, 512)         2359808   \n",
      "_________________________________________________________________\n",
      "block5_conv2 (Conv2D)        (None, 4, 4, 512)         2359808   \n",
      "_________________________________________________________________\n",
      "global_average_pooling2d_1 ( (None, 512)               0         \n",
      "_________________________________________________________________\n",
      "dense_1 (Dense)              (None, 1024)              525312    \n",
      "_________________________________________________________________\n",
      "dropout_1 (Dropout)          (None, 1024)              0         \n",
      "_________________________________________________________________\n",
      "predictions (Dense)          (None, 4)                 4100      \n",
      "=================================================================\n",
      "Total params: 12,884,292\n",
      "Trainable params: 529,412\n",
      "Non-trainable params: 12,354,880\n",
      "_________________________________________________________________\n"
     ]
    }
   ],
   "source": [
    "model.summary()"
   ]
  },
  {
   "cell_type": "code",
   "execution_count": 28,
   "metadata": {
    "scrolled": false
   },
   "outputs": [
    {
     "name": "stdout",
     "output_type": "stream",
     "text": [
      "Train on 1249 samples, validate on 139 samples\n",
      "Epoch 1/17\n",
      "1249/1249 [==============================] - 100s 80ms/step - loss: 1.1783 - acc: 0.5076 - val_loss: 0.9519 - val_acc: 0.6547\n",
      "Epoch 2/17\n",
      "1249/1249 [==============================] - 100s 80ms/step - loss: 0.9466 - acc: 0.6165 - val_loss: 0.8740 - val_acc: 0.6331\n",
      "Epoch 3/17\n",
      "1249/1249 [==============================] - 99s 79ms/step - loss: 0.8846 - acc: 0.6349 - val_loss: 0.8482 - val_acc: 0.6547\n",
      "Epoch 4/17\n",
      "1249/1249 [==============================] - 101s 80ms/step - loss: 0.7896 - acc: 0.6966 - val_loss: 0.8860 - val_acc: 0.6763\n",
      "Epoch 5/17\n",
      "1249/1249 [==============================] - 102s 82ms/step - loss: 0.7332 - acc: 0.7014 - val_loss: 0.8648 - val_acc: 0.6619\n",
      "Epoch 6/17\n",
      "1249/1249 [==============================] - 100s 80ms/step - loss: 0.7224 - acc: 0.7182 - val_loss: 0.8577 - val_acc: 0.6906\n",
      "Epoch 7/17\n",
      "1249/1249 [==============================] - 100s 80ms/step - loss: 0.6763 - acc: 0.7414 - val_loss: 0.7777 - val_acc: 0.6906\n",
      "Epoch 8/17\n",
      "1249/1249 [==============================] - 100s 80ms/step - loss: 0.6392 - acc: 0.7518 - val_loss: 0.7437 - val_acc: 0.7410\n",
      "Epoch 9/17\n",
      "1249/1249 [==============================] - 100s 80ms/step - loss: 0.5783 - acc: 0.7862 - val_loss: 0.7656 - val_acc: 0.7122\n",
      "Epoch 10/17\n",
      "1249/1249 [==============================] - 100s 80ms/step - loss: 0.5943 - acc: 0.7678 - val_loss: 0.8373 - val_acc: 0.6763\n",
      "Epoch 11/17\n",
      "1249/1249 [==============================] - 100s 80ms/step - loss: 0.5951 - acc: 0.7638 - val_loss: 0.7520 - val_acc: 0.7338\n",
      "Epoch 12/17\n",
      "1249/1249 [==============================] - 100s 80ms/step - loss: 0.5050 - acc: 0.8215 - val_loss: 0.8087 - val_acc: 0.7410\n",
      "Epoch 13/17\n",
      "1249/1249 [==============================] - 100s 80ms/step - loss: 0.5895 - acc: 0.7718 - val_loss: 0.7858 - val_acc: 0.6978\n",
      "Epoch 14/17\n",
      "1249/1249 [==============================] - 101s 80ms/step - loss: 0.5022 - acc: 0.8086 - val_loss: 0.7038 - val_acc: 0.7698\n",
      "Epoch 15/17\n",
      "1249/1249 [==============================] - 101s 81ms/step - loss: 0.4229 - acc: 0.8487 - val_loss: 0.7258 - val_acc: 0.7338\n",
      "Epoch 16/17\n",
      "1249/1249 [==============================] - 101s 81ms/step - loss: 0.4203 - acc: 0.8415 - val_loss: 0.8464 - val_acc: 0.6835\n",
      "Epoch 17/17\n",
      "1249/1249 [==============================] - 102s 82ms/step - loss: 0.4314 - acc: 0.8311 - val_loss: 0.7523 - val_acc: 0.7338\n"
     ]
    },
    {
     "data": {
      "text/plain": [
       "<keras.callbacks.History at 0x2a0a9f3ac50>"
      ]
     },
     "execution_count": 28,
     "metadata": {},
     "output_type": "execute_result"
    }
   ],
   "source": [
    "model.fit(\n",
    "    x_train,\n",
    "    y_train,\n",
    "    batch_size=32,\n",
    "    epochs=17,\n",
    "    shuffle=True,\n",
    "    validation_data = (x_test, y_test)\n",
    ")"
   ]
  },
  {
   "cell_type": "code",
   "execution_count": 29,
   "metadata": {},
   "outputs": [],
   "source": [
    "y_pred = model.predict(x_test, batch_size=10, verbose=0)"
   ]
  },
  {
   "cell_type": "code",
   "execution_count": 30,
   "metadata": {},
   "outputs": [
    {
     "data": {
      "text/plain": [
       "139"
      ]
     },
     "execution_count": 30,
     "metadata": {},
     "output_type": "execute_result"
    }
   ],
   "source": [
    "y_pred_class = []\n",
    "for i in range(0, len(y_pred)):\n",
    "    y_pred_class.append(int(np.argmax(y_pred[i])))\n",
    "len(y_pred_class)"
   ]
  },
  {
   "cell_type": "code",
   "execution_count": 31,
   "metadata": {},
   "outputs": [
    {
     "data": {
      "text/plain": [
       "139"
      ]
     },
     "execution_count": 31,
     "metadata": {},
     "output_type": "execute_result"
    }
   ],
   "source": [
    "y_true = []\n",
    "for i in range(0, len(y_test)):\n",
    "    y_true.append(int(np.argmax(y_test[i])))\n",
    "len(y_true)"
   ]
  },
  {
   "cell_type": "code",
   "execution_count": 32,
   "metadata": {},
   "outputs": [],
   "source": [
    "def plot_confusion_matrix(cm, classes,\n",
    "                          title='Confusion matrix',\n",
    "                          cmap=plt.cm.Blues):\n",
    "    \n",
    "    plt.imshow(cm, interpolation='nearest', cmap=cmap)\n",
    "    plt.title(title)\n",
    "    plt.colorbar()\n",
    "    tick_marks = np.arange(len(classes))\n",
    "    plt.xticks(tick_marks, classes, rotation=30)\n",
    "    plt.yticks(tick_marks, classes, rotation=30)\n",
    "\n",
    "    fmt = 'd'\n",
    "    thresh = cm.max() / 2.\n",
    "    for i, j in itertools.product(range(cm.shape[0]), range(cm.shape[1])):\n",
    "        plt.text(j, i, format(cm[i, j], fmt),\n",
    "                 horizontalalignment=\"center\",\n",
    "                 color=\"white\" if cm[i, j] > thresh else \"black\")\n",
    "\n",
    "    plt.ylabel('True label')\n",
    "    plt.xlabel('Predicted label')\n",
    "    plt.tight_layout()\n",
    "    plt.show()"
   ]
  },
  {
   "cell_type": "code",
   "execution_count": 33,
   "metadata": {},
   "outputs": [
    {
     "data": {
      "image/png": "[encoded data removed]",
      "text/plain": [
       "<Figure size 432x288 with 2 Axes>"
      ]
     },
     "metadata": {
      "needs_background": "light"
     },
     "output_type": "display_data"
    }
   ],
   "source": [
    "cm = confusion_matrix(y_true=y_true, y_pred=y_pred_class)\n",
    "plot_confusion_matrix(cm, class_labels, title='Confusion Matrix')"
   ]
  },
  {
   "cell_type": "code",
   "execution_count": 34,
   "metadata": {},
   "outputs": [
    {
     "data": {
      "text/plain": [
       "10884"
      ]
     },
     "execution_count": 34,
     "metadata": {},
     "output_type": "execute_result"
    }
   ],
   "source": [
    "model_structure = model.to_json()\n",
    "f = Path(\"model/model_structure.json\")\n",
    "f.write_text(model_structure)"
   ]
  },
  {
   "cell_type": "code",
   "execution_count": 35,
   "metadata": {},
   "outputs": [],
   "source": [
    "model.save_weights(\"model/model_weights.h5\")"
   ]
  },
  {
   "cell_type": "code",
   "execution_count": null,
   "metadata": {},
   "outputs": [],
   "source": []
  }
 ],
 "metadata": {
  "kernelspec": {
   "display_name": "Pyhon(brain_tumor-env)",
   "language": "python",
   "name": "brain_tumor-env"
  },
  "language_info": {
   "codemirror_mode": {
    "name": "ipython",
    "version": 3
   },
   "file_extension": ".py",
   "mimetype": "text/x-python",
   "name": "python",
   "nbconvert_exporter": "python",
   "pygments_lexer": "ipython3",
   "version": "3.6.6"
  }
 },
 "nbformat": 4,
 "nbformat_minor": 2
}

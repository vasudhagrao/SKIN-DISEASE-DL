{
 "cells": [
  {
   "cell_type": "code",
   "execution_count": 1,
   "metadata": {},
   "outputs": [
    {
     "name": "stderr",
     "output_type": "stream",
     "text": [
      "Using TensorFlow backend.\n"
     ]
    }
   ],
   "source": [
    "import cv2\n",
    "import os\n",
    "import h5py\n",
    "import numpy as np\n",
    "from keras.models import Sequential\n",
    "from keras.utils import np_utils\n",
    "from keras.layers import Dense, Dropout, Flatten, Conv2D, MaxPooling2D, GlobalAveragePooling2D\n",
    "from keras.optimizers import Adam\n",
    "from keras.models import Model\n",
    "from keras.applications import VGG16\n",
    "from pathlib import Path\n",
    "import itertools\n",
    "%matplotlib inline\n",
    "import matplotlib.pyplot as plt\n",
    "from pathlib import Path\n",
    "from sklearn.metrics import accuracy_score\n",
    "from sklearn.metrics import classification_report\n",
    "from sklearn.metrics import confusion_matrix\n",
    "from sklearn.model_selection import train_test_split"
   ]
  },
  {
   "cell_type": "code",
   "execution_count": 2,
   "metadata": {},
   "outputs": [],
   "source": [
    "data_dir = 'input'"
   ]
  },
  {
   "cell_type": "code",
   "execution_count": 3,
   "metadata": {},
   "outputs": [
    {
     "name": "stdout",
     "output_type": "stream",
     "text": [
      "['Acne', 'Dermatitis', 'Eczema', 'Melanoma']\n"
     ]
    }
   ],
   "source": [
    "class_labels = os.listdir(data_dir)\n",
    "print(class_labels)"
   ]
  },
  {
   "cell_type": "code",
   "execution_count": 4,
   "metadata": {},
   "outputs": [
    {
     "name": "stdout",
     "output_type": "stream",
     "text": [
      "Acne :  324\n",
      "Dermatitis :  234\n",
      "Eczema :  320\n",
      "Melanoma :  439\n",
      "----- 1317\n"
     ]
    }
   ],
   "source": [
    "count = 0\n",
    "for label in class_labels:\n",
    "    total = len(os.listdir(os.path.join(data_dir, label)))\n",
    "    print(label, \": \",total)\n",
    "    count +=total\n",
    "print('-----',count)"
   ]
  },
  {
   "cell_type": "code",
   "execution_count": 5,
   "metadata": {},
   "outputs": [],
   "source": [
    "num_classes = len(class_labels)\n",
    "no_samples = count\n",
    "img_rows= 128\n",
    "img_cols= 128\n",
    "no_channels = 3\n"
   ]
  },
  {
   "cell_type": "code",
   "execution_count": 6,
   "metadata": {},
   "outputs": [],
   "source": [
    "# def load_training_data():\n",
    "#     labels = os.listdir(data_dir)\n",
    "#     total = len(labels)\n",
    "    \n",
    "#     X = np.ndarray((no_samples, img_rows, img_cols, no_channels), dtype = np.uint8)\n",
    "#     Y = np.zeros((no_samples,), dtype = np.uint8)\n",
    "    \n",
    "#     i = 0\n",
    "#     print('-'*30)\n",
    "#     print('Creating training images...')\n",
    "#     print('-'*30)\n",
    "    \n",
    "#     j = 0\n",
    "#     for label in labels:\n",
    "#         image_names = os.listdir(os.path.join(data_dir, label))\n",
    "#         total = len(image_names)\n",
    "#         print(label, total)\n",
    "#         for image_name in image_names:\n",
    "#             img = cv2.imread(os.path.join(data_dir, label, image_name), 1)\n",
    "#             img = np.array(cv2.resize(img, (img_rows,img_cols)))\n",
    "#             X[i] = img\n",
    "#             Y[i] = j\n",
    "\n",
    "#             if i % 80 == 0:\n",
    "#                 print('Done: {0}/{1} images'.format(i, total))\n",
    "#             i += 1\n",
    "#         j += 1    \n",
    "#     print(i)                \n",
    "#     print('Loading done.')\n",
    "    \n",
    "#     Y = np_utils.to_categorical(Y[:no_samples], num_classes)\n",
    "\n",
    "#     np.save('dataset/features.npy', X)\n",
    "#     np.save('dataset/labels.npy', Y)"
   ]
  },
  {
   "cell_type": "code",
   "execution_count": 7,
   "metadata": {},
   "outputs": [],
   "source": [
    "# load_training_data()"
   ]
  },
  {
   "cell_type": "code",
   "execution_count": 8,
   "metadata": {},
   "outputs": [],
   "source": [
    "X = np.load('dataset/features.npy')\n",
    "Y = np.load('dataset/labels.npy')"
   ]
  },
  {
   "cell_type": "code",
   "execution_count": 9,
   "metadata": {},
   "outputs": [
    {
     "name": "stdout",
     "output_type": "stream",
     "text": [
      "(1317, 128, 128, 3) (1317, 4)\n"
     ]
    }
   ],
   "source": [
    "print(X.shape, Y.shape)"
   ]
  },
  {
   "cell_type": "code",
   "execution_count": 10,
   "metadata": {},
   "outputs": [],
   "source": [
    "X = X.astype('float32')\n",
    "X /= 127.5"
   ]
  },
  {
   "cell_type": "code",
   "execution_count": 11,
   "metadata": {},
   "outputs": [],
   "source": [
    "x_train, x_test, y_train, y_test = train_test_split(X, Y, test_size= 0.1)"
   ]
  },
  {
   "cell_type": "code",
   "execution_count": 12,
   "metadata": {},
   "outputs": [
    {
     "name": "stdout",
     "output_type": "stream",
     "text": [
      "(1185, 128, 128, 3) (1185, 4) (132, 128, 128, 3) (132, 4)\n"
     ]
    }
   ],
   "source": [
    "print(x_train.shape, y_train.shape, x_test.shape, y_test.shape)"
   ]
  },
  {
   "cell_type": "code",
   "execution_count": 13,
   "metadata": {},
   "outputs": [],
   "source": [
    "base_model = VGG16(weights='imagenet', include_top=False, input_shape=(128,128,3))"
   ]
  },
  {
   "cell_type": "code",
   "execution_count": 14,
   "metadata": {},
   "outputs": [],
   "source": [
    "base_model = Model(base_model.input, base_model.get_layer('block5_conv2').output)"
   ]
  },
  {
   "cell_type": "code",
   "execution_count": 15,
   "metadata": {},
   "outputs": [],
   "source": [
    "x = base_model.output\n",
    "x = GlobalAveragePooling2D()(x)\n",
    "x = Dense(1024, activation='relu')(x)\n",
    "x = Dropout(0.5)(x)\n",
    "predictions = Dense(num_classes, activation='softmax', name='predictions')(x)"
   ]
  },
  {
   "cell_type": "code",
   "execution_count": 16,
   "metadata": {},
   "outputs": [],
   "source": [
    "model = Model(inputs=base_model.input, outputs=predictions)"
   ]
  },
  {
   "cell_type": "code",
   "execution_count": 17,
   "metadata": {},
   "outputs": [
    {
     "name": "stdout",
     "output_type": "stream",
     "text": [
      "_________________________________________________________________\n",
      "Layer (type)                 Output Shape              Param #   \n",
      "=================================================================\n",
      "input_1 (InputLayer)         (None, 128, 128, 3)       0         \n",
      "_________________________________________________________________\n",
      "block1_conv1 (Conv2D)        (None, 128, 128, 64)      1792      \n",
      "_________________________________________________________________\n",
      "block1_conv2 (Conv2D)        (None, 128, 128, 64)      36928     \n",
      "_________________________________________________________________\n",
      "block1_pool (MaxPooling2D)   (None, 64, 64, 64)        0         \n",
      "_________________________________________________________________\n",
      "block2_conv1 (Conv2D)        (None, 64, 64, 128)       73856     \n",
      "_________________________________________________________________\n",
      "block2_conv2 (Conv2D)        (None, 64, 64, 128)       147584    \n",
      "_________________________________________________________________\n",
      "block2_pool (MaxPooling2D)   (None, 32, 32, 128)       0         \n",
      "_________________________________________________________________\n",
      "block3_conv1 (Conv2D)        (None, 32, 32, 256)       295168    \n",
      "_________________________________________________________________\n",
      "block3_conv2 (Conv2D)        (None, 32, 32, 256)       590080    \n",
      "_________________________________________________________________\n",
      "block3_conv3 (Conv2D)        (None, 32, 32, 256)       590080    \n",
      "_________________________________________________________________\n",
      "block3_pool (MaxPooling2D)   (None, 16, 16, 256)       0         \n",
      "_________________________________________________________________\n",
      "block4_conv1 (Conv2D)        (None, 16, 16, 512)       1180160   \n",
      "_________________________________________________________________\n",
      "block4_conv2 (Conv2D)        (None, 16, 16, 512)       2359808   \n",
      "_________________________________________________________________\n",
      "block4_conv3 (Conv2D)        (None, 16, 16, 512)       2359808   \n",
      "_________________________________________________________________\n",
      "block4_pool (MaxPooling2D)   (None, 8, 8, 512)         0         \n",
      "_________________________________________________________________\n",
      "block5_conv1 (Conv2D)        (None, 8, 8, 512)         2359808   \n",
      "_________________________________________________________________\n",
      "block5_conv2 (Conv2D)        (None, 8, 8, 512)         2359808   \n",
      "_________________________________________________________________\n",
      "global_average_pooling2d_1 ( (None, 512)               0         \n",
      "_________________________________________________________________\n",
      "dense_1 (Dense)              (None, 1024)              525312    \n",
      "_________________________________________________________________\n",
      "dropout_1 (Dropout)          (None, 1024)              0         \n",
      "_________________________________________________________________\n",
      "predictions (Dense)          (None, 4)                 4100      \n",
      "=================================================================\n",
      "Total params: 12,884,292\n",
      "Trainable params: 12,884,292\n",
      "Non-trainable params: 0\n",
      "_________________________________________________________________\n"
     ]
    }
   ],
   "source": [
    "model.summary()"
   ]
  },
  {
   "cell_type": "code",
   "execution_count": 18,
   "metadata": {},
   "outputs": [],
   "source": [
    "for layer in base_model.layers:\n",
    "    layer.trainable = False"
   ]
  },
  {
   "cell_type": "code",
   "execution_count": 19,
   "metadata": {},
   "outputs": [],
   "source": [
    "adam = Adam(lr=0.0001, decay=1e-6)\n",
    "epoch = 1"
   ]
  },
  {
   "cell_type": "code",
   "execution_count": 20,
   "metadata": {},
   "outputs": [],
   "source": [
    "model.compile(\n",
    "    loss= 'categorical_crossentropy',\n",
    "    optimizer= 'adam',\n",
    "    metrics=['accuracy']\n",
    ")"
   ]
  },
  {
   "cell_type": "code",
   "execution_count": 21,
   "metadata": {
    "scrolled": false
   },
   "outputs": [
    {
     "name": "stdout",
     "output_type": "stream",
     "text": [
      "Train on 1185 samples, validate on 132 samples\n",
      "Epoch 1/15\n",
      "1185/1185 [==============================] - 293s 247ms/step - loss: 1.1902 - acc: 0.4928 - val_loss: 1.0862 - val_acc: 0.5606\n",
      "Epoch 2/15\n",
      "1185/1185 [==============================] - 293s 247ms/step - loss: 1.0458 - acc: 0.5586 - val_loss: 1.1274 - val_acc: 0.4848\n",
      "Epoch 3/15\n",
      "1185/1185 [==============================] - 292s 246ms/step - loss: 0.9258 - acc: 0.6346 - val_loss: 0.9914 - val_acc: 0.5909\n",
      "Epoch 4/15\n",
      "1185/1185 [==============================] - 294s 248ms/step - loss: 0.8493 - acc: 0.6456 - val_loss: 0.9632 - val_acc: 0.6288\n",
      "Epoch 5/15\n",
      "1185/1185 [==============================] - 301s 254ms/step - loss: 0.8452 - acc: 0.6532 - val_loss: 0.9942 - val_acc: 0.5606\n",
      "Epoch 6/15\n",
      "1185/1185 [==============================] - 293s 247ms/step - loss: 0.8085 - acc: 0.6802 - val_loss: 1.0192 - val_acc: 0.5833\n",
      "Epoch 7/15\n",
      "1185/1185 [==============================] - 292s 246ms/step - loss: 0.7904 - acc: 0.6810 - val_loss: 0.9485 - val_acc: 0.5833\n",
      "Epoch 8/15\n",
      "1185/1185 [==============================] - 294s 248ms/step - loss: 0.7530 - acc: 0.6996 - val_loss: 0.9204 - val_acc: 0.5909\n",
      "Epoch 9/15\n",
      "1185/1185 [==============================] - 294s 248ms/step - loss: 0.6876 - acc: 0.7300 - val_loss: 0.9042 - val_acc: 0.6288\n",
      "Epoch 10/15\n",
      "1185/1185 [==============================] - 292s 247ms/step - loss: 0.7204 - acc: 0.7148 - val_loss: 0.8485 - val_acc: 0.6212\n",
      "Epoch 11/15\n",
      "1185/1185 [==============================] - 293s 247ms/step - loss: 0.6285 - acc: 0.7586 - val_loss: 0.8889 - val_acc: 0.5909\n",
      "Epoch 12/15\n",
      "1185/1185 [==============================] - 293s 247ms/step - loss: 0.6428 - acc: 0.7485 - val_loss: 0.9671 - val_acc: 0.5455\n",
      "Epoch 13/15\n",
      "1185/1185 [==============================] - 292s 247ms/step - loss: 0.6401 - acc: 0.7359 - val_loss: 0.9254 - val_acc: 0.6061\n",
      "Epoch 14/15\n",
      "1185/1185 [==============================] - 298s 251ms/step - loss: 0.6698 - acc: 0.7300 - val_loss: 0.9062 - val_acc: 0.6212\n",
      "Epoch 15/15\n",
      "1185/1185 [==============================] - 296s 249ms/step - loss: 0.6163 - acc: 0.7502 - val_loss: 0.8908 - val_acc: 0.6667\n"
     ]
    },
    {
     "data": {
      "text/plain": [
       "<keras.callbacks.History at 0x2648005d668>"
      ]
     },
     "execution_count": 21,
     "metadata": {},
     "output_type": "execute_result"
    }
   ],
   "source": [
    "model.fit(\n",
    "    x_train,\n",
    "    y_train,\n",
    "    batch_size=32,\n",
    "    epochs=15,\n",
    "    shuffle=True,\n",
    "    validation_data = (x_test, y_test)\n",
    ")"
   ]
  },
  {
   "cell_type": "code",
   "execution_count": 22,
   "metadata": {},
   "outputs": [
    {
     "data": {
      "text/plain": [
       "10886"
      ]
     },
     "execution_count": 22,
     "metadata": {},
     "output_type": "execute_result"
    }
   ],
   "source": [
    "model_structure = model.to_json()\n",
    "f = Path(\"model/model_structure.json\")\n",
    "f.write_text(model_structure)"
   ]
  },
  {
   "cell_type": "code",
   "execution_count": 23,
   "metadata": {},
   "outputs": [],
   "source": [
    "model.save_weights(\"model/model_weights.h5\")"
   ]
  },
  {
   "cell_type": "code",
   "execution_count": null,
   "metadata": {},
   "outputs": [],
   "source": []
  }
 ],
 "metadata": {
  "kernelspec": {
   "display_name": "Pyhon(brain_tumor-env)",
   "language": "python",
   "name": "brain_tumor-env"
  },
  "language_info": {
   "codemirror_mode": {
    "name": "ipython",
    "version": 3
   },
   "file_extension": ".py",
   "mimetype": "text/x-python",
   "name": "python",
   "nbconvert_exporter": "python",
   "pygments_lexer": "ipython3",
   "version": "3.6.6"
  }
 },
 "nbformat": 4,
 "nbformat_minor": 2
}
